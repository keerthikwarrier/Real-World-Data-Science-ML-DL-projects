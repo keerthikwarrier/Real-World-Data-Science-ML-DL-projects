{
 "cells": [
  {
   "cell_type": "markdown",
   "id": "68677ad8-9802-4b1f-ac52-e2a4d3ceb1b7",
   "metadata": {},
   "source": [
    "# Business: A local Business in Bangalore\n",
    "\n",
    "Requirement:\n",
    "We’ve collected over 11 customer reviews from Google. We want to understand what customers are happy or unhappy about (service, cleanliness, etc.).\n",
    "\n",
    "Deliverables:\n",
    "1. Clean and analyze the reviews\n",
    "2. Classify sentiment (Positive, Neutral, Negative)\n",
    "3. Identify top complaint areas\n",
    "4. Deliver visual dashboard (in Power BI or Streamlit)\n",
    "5. Share a PDF insights summary for management\n",
    "   \n",
    "Bonus: Use topic modeling (LDA) to cluster themes"
   ]
  },
  {
   "cell_type": "markdown",
   "id": "aff8b8fc-44be-4a87-b2be-fd28eb631494",
   "metadata": {},
   "source": [
    "## Step 1: Data Collection\n",
    "Simulate review data if you don’t have real ones:\n",
    "1. Use public datasets like Google Reviews on Kaggle\n",
    "2. Scrape reviews (with permission) using SepAPI/BeautifulSoup/Selenium (optional)\n",
    "    Using SerpAPI - Go to https://serpapi.com\n",
    "    Sign up and get your free API key\n",
    "   The free tier gives you 100 searches/month"
   ]
  },
  {
   "cell_type": "markdown",
   "id": "25cb9749-1406-40a4-bbaf-b7856004eb80",
   "metadata": {},
   "source": [
    "### Python code to scrape Google Reviews using Selenium"
   ]
  },
  {
   "cell_type": "code",
   "execution_count": 1,
   "id": "269eb7a3-89c6-4e51-9201-746323f53d6d",
   "metadata": {},
   "outputs": [
    {
     "name": "stdout",
     "output_type": "stream",
     "text": [
      "✅ Scraped 10 reviews and saved to CSV.\n"
     ]
    }
   ],
   "source": [
    "from selenium import webdriver\n",
    "from selenium.webdriver.chrome.service import Service\n",
    "from selenium.webdriver.common.by import By\n",
    "from webdriver_manager.chrome import ChromeDriverManager\n",
    "import time\n",
    "import pandas as pd\n",
    "\n",
    "# Setup Chrome with options\n",
    "options = webdriver.ChromeOptions()\n",
    "options.add_argument(\"--start-maximized\")\n",
    "options.add_argument(\"--disable-blink-features=AutomationControlled\")\n",
    "driver = webdriver.Chrome(service=Service(ChromeDriverManager().install()), options=options)\n",
    "\n",
    "# Google Maps URL for Radhika Beauty Parlour\n",
    "maps_url = \"https://www.google.com/maps/place/Radhika+Beauty+Parlour/@12.9388344,77.6387658,12z/data=!4m10!1m2!2m1!1sradhika+beauty+parlour!3m6!1s0x3bae116ad9f48111:0x480b990dca891fbf!8m2!3d12.993053!4d77.6790856!15sChZyYWRoaWthIGJlYXV0eSBwYXJsb3VyWhgiFnJhZGhpa2EgYmVhdXR5IHBhcmxvdXKSAQxiZWF1dHlfc2Fsb26aASRDaGREU1VoTk1HOW5TMFZKUTBGblNVUlNNRnBoUTNoM1JSQUKqAWYKCS9tLzA1Njl6ZxABKhoiFnJhZGhpa2EgYmVhdXR5IHBhcmxvdXIoADIfEAEiG--zjoLqsMAjyxPqws0jrk0ArVi_XyL-wQ8DHDIaEAIiFnJhZGhpa2EgYmVhdXR5IHBhcmxvdXLgAQD6AQQIABBJ!16s%2Fg%2F11gbx9scwr?entry=ttu&g_ep=EgoyMDI1MDYyMy4yIKXMDSoASAFQAw%3D%3D\"\n",
    "driver.get(maps_url)\n",
    "time.sleep(5)\n",
    "\n",
    "# Click on \"Reviews\" button\n",
    "try:\n",
    "    review_button = driver.find_element(By.XPATH ,'//div[text()=\"Reviews\"]')\n",
    "    review_button.click()\n",
    "    time.sleep(5)\n",
    "except:\n",
    "    print(\"❌ Could not click the Reviews button.\")\n",
    "    driver.quit()\n",
    "    exit()\n",
    "\n",
    "# Scroll the reviews pane to load more reviews\n",
    "scrollable_div = driver.find_element(By.XPATH, '//*[@id=\"QA0Szd\"]/div/div/div[1]/div[2]/div/div[1]/div/div/div[2]')\n",
    "\n",
    "for _ in range(10):  # Adjust number of scrolls\n",
    "    driver.execute_script('arguments[0].scrollTop = arguments[0].scrollHeight', scrollable_div)\n",
    "    time.sleep(2)\n",
    "\n",
    "# Find all review text elements by your XPath\n",
    "name_elements = driver.find_elements(By.XPATH, '//div[@class=\"d4r55 \"]')\n",
    "review_elements = driver.find_elements(By.XPATH, '//span[@class=\"wiI7pd\"]')\n",
    "\n",
    "\n",
    "reviews = [\n",
    "    {\"name\": name.text.strip(), \"review\": review.text.strip()}\n",
    "    for name, review in zip(name_elements, review_elements)\n",
    "    if review.text.strip()\n",
    "]\n",
    "\n",
    "\n",
    "driver.quit()\n",
    "\n",
    "# Save reviews to CSV\n",
    "df = pd.DataFrame(reviews, columns=[\"name\",\"review\"])\n",
    "df.to_csv(\"radhika_google_reviews.csv\", index=False)\n",
    "print(f\"✅ Scraped {len(df)} reviews and saved to CSV.\")\n"
   ]
  },
  {
   "cell_type": "markdown",
   "id": "127dc2a7-495a-47c4-83b6-d931421949ad",
   "metadata": {},
   "source": [
    "### Load the data"
   ]
  },
  {
   "cell_type": "code",
   "execution_count": 2,
   "id": "a31a4ee6-083a-4414-9d0d-a07303a4814a",
   "metadata": {},
   "outputs": [
    {
     "name": "stdout",
     "output_type": "stream",
     "text": [
      "                  name                                             review\n",
      "0            Suvathi K  I am a regular customer after accidentally ent...\n",
      "1  Bapitha Kumar singh  It's nice. They are doing saree drops, beauty ...\n",
      "2            Keerthi K  Excellent experience. I have been coming here ...\n",
      "3         Anitha Reddy      Prathima's service is very good and excellent\n",
      "4                   ND  One of the worst parlour . Lot of negativity ....\n"
     ]
    }
   ],
   "source": [
    "import pandas as pd\n",
    "\n",
    "df = pd.read_csv(\"radhika_google_reviews.csv\")\n",
    "print(df.head())"
   ]
  },
  {
   "cell_type": "markdown",
   "id": "f0a0349e-9cca-420c-801e-0e3113a1d34b",
   "metadata": {},
   "source": [
    "## Step 2: Install and Import Sentiment Libraries and Run Sentiment Analysis\n",
    "TextBlob (simple and good for small-scale)\n",
    "- TextBlob is a Python library that understands English grammar and sentiment.\n",
    "- Once a TextBlob is created, you can extract its sentiment."
   ]
  },
  {
   "cell_type": "code",
   "execution_count": 3,
   "id": "2f5015f7-74e2-4c30-9a89-3865d4227113",
   "metadata": {},
   "outputs": [],
   "source": [
    "#!pip install textblob"
   ]
  },
  {
   "cell_type": "code",
   "execution_count": 4,
   "id": "64f2b191-bbfe-4436-806f-a0fb9820f813",
   "metadata": {},
   "outputs": [],
   "source": [
    "from textblob import TextBlob\n",
    "def get_sentiment(text):\n",
    "    blob = TextBlob(text) #This creates a TextBlob object from the review text.\n",
    "    polarity = blob.sentiment.polarity #This extracts the polarity score, which is a float value between -1.0 and 1.0:\n",
    "    if polarity > 0:\n",
    "        return \"Positive\"\n",
    "    elif polarity < 0:\n",
    "        return \"Negative\"\n",
    "    else:\n",
    "        return \"Neutral\"\n",
    "\n",
    "df[\"sentiment\"] = df[\"review\"].apply(get_sentiment)\n",
    "df[\"polarity\"] = df[\"review\"].apply(lambda x: TextBlob(x).sentiment.polarity)\n"
   ]
  },
  {
   "cell_type": "markdown",
   "id": "1c0b74a3-1fb0-40e2-bca1-4e7ef80b37a7",
   "metadata": {},
   "source": [
    "### Step 3: Save the sentiment to the new csv file"
   ]
  },
  {
   "cell_type": "code",
   "execution_count": 5,
   "id": "bd843491-720c-4dff-992e-bc5b0738a1e2",
   "metadata": {},
   "outputs": [
    {
     "name": "stdout",
     "output_type": "stream",
     "text": [
      "✅ Sentiment analysis complete and saved!\n"
     ]
    }
   ],
   "source": [
    "df.to_csv(\"radhika_reviews_with_sentiment.csv\", index=False)\n",
    "print(\"✅ Sentiment analysis complete and saved!\")\n"
   ]
  },
  {
   "cell_type": "markdown",
   "id": "03d717a3-d5b9-414e-ac57-40f40408e096",
   "metadata": {},
   "source": [
    "### Step 4: Give the Sentiment Analysis Output "
   ]
  },
  {
   "cell_type": "code",
   "execution_count": 6,
   "id": "a24e343a-497f-4ace-ad3a-4234aead02af",
   "metadata": {},
   "outputs": [
    {
     "name": "stdout",
     "output_type": "stream",
     "text": [
      "sentiment\n",
      "Positive    9\n",
      "Negative    1\n",
      "Name: count, dtype: int64\n"
     ]
    }
   ],
   "source": [
    "print(df[\"sentiment\"].value_counts())\n"
   ]
  },
  {
   "cell_type": "markdown",
   "id": "e778fc56-860d-466f-bc64-3f5391fd8d89",
   "metadata": {},
   "source": [
    "### Step 5: Visualization with Matplotlib"
   ]
  },
  {
   "cell_type": "code",
   "execution_count": 7,
   "id": "f4028c52-4b75-4495-b6bc-21b8b7b841dd",
   "metadata": {},
   "outputs": [
    {
     "data": {
      "image/png": "[encoded data removed]",
      "text/plain": [
       "<Figure size 640x480 with 1 Axes>"
      ]
     },
     "metadata": {},
     "output_type": "display_data"
    }
   ],
   "source": [
    "import matplotlib.pyplot as plt\n",
    "\n",
    "df[\"sentiment\"].value_counts().plot(kind='bar', color=['green', 'grey', 'red'])\n",
    "plt.title(\"Sentiment Distribution of Customer Reviews\")\n",
    "plt.xlabel(\"Sentiment\")\n",
    "plt.ylabel(\"Count\")\n",
    "plt.tight_layout()\n",
    "plt.show()\n"
   ]
  },
  {
   "cell_type": "markdown",
   "id": "f4075eaf-b70e-4fe9-9d39-7c1d9d43b55d",
   "metadata": {},
   "source": [
    "### Step 6: Create a dashboard using Streamlit"
   ]
  },
  {
   "cell_type": "code",
   "execution_count": 9,
   "id": "4589c710-f78f-4f65-bf52-95ecdfa59911",
   "metadata": {},
   "outputs": [],
   "source": [
    "#open and write to the app.py file\n",
    "code = \"\"\"\n",
    "# Your Streamlit code here...\n",
    "\"\"\"\n",
    "with open(\"app.py\", \"w\") as f:\n",
    "    f.write(code)"
   ]
  },
  {
   "cell_type": "code",
   "execution_count": 10,
   "id": "91a2930e-0c88-444a-9f1c-b92fc3809c3e",
   "metadata": {},
   "outputs": [
    {
     "name": "stdout",
     "output_type": "stream",
     "text": [
      "Requirement already satisfied: streamlit in c:\\users\\keert\\anaconda3\\envs\\jupyternotebook-intwebappenv\\lib\\site-packages (1.46.0)\n",
      "Requirement already satisfied: altair<6,>=4.0 in c:\\users\\keert\\anaconda3\\envs\\jupyternotebook-intwebappenv\\lib\\site-packages (from streamlit) (5.5.0)\n",
      "Requirement already satisfied: blinker<2,>=1.5.0 in c:\\users\\keert\\anaconda3\\envs\\jupyternotebook-intwebappenv\\lib\\site-packages (from streamlit) (1.9.0)\n",
      "Requirement already satisfied: cachetools<7,>=4.0 in c:\\users\\keert\\anaconda3\\envs\\jupyternotebook-intwebappenv\\lib\\site-packages (from streamlit) (6.1.0)\n",
      "Requirement already satisfied: click<9,>=7.0 in c:\\users\\keert\\anaconda3\\envs\\jupyternotebook-intwebappenv\\lib\\site-packages (from streamlit) (8.1.8)\n",
      "Requirement already satisfied: numpy<3,>=1.23 in c:\\users\\keert\\anaconda3\\envs\\jupyternotebook-intwebappenv\\lib\\site-packages (from streamlit) (1.26.4)\n",
      "Requirement already satisfied: packaging<26,>=20 in c:\\users\\keert\\anaconda3\\envs\\jupyternotebook-intwebappenv\\lib\\site-packages (from streamlit) (24.2)\n",
      "Requirement already satisfied: pandas<3,>=1.4.0 in c:\\users\\keert\\anaconda3\\envs\\jupyternotebook-intwebappenv\\lib\\site-packages (from streamlit) (2.2.3)\n",
      "Requirement already satisfied: pillow<12,>=7.1.0 in c:\\users\\keert\\anaconda3\\envs\\jupyternotebook-intwebappenv\\lib\\site-packages (from streamlit) (11.1.0)\n",
      "Requirement already satisfied: protobuf<7,>=3.20 in c:\\users\\keert\\anaconda3\\envs\\jupyternotebook-intwebappenv\\lib\\site-packages (from streamlit) (5.29.4)\n",
      "Requirement already satisfied: pyarrow>=7.0 in c:\\users\\keert\\anaconda3\\envs\\jupyternotebook-intwebappenv\\lib\\site-packages (from streamlit) (20.0.0)\n",
      "Requirement already satisfied: requests<3,>=2.27 in c:\\users\\keert\\anaconda3\\envs\\jupyternotebook-intwebappenv\\lib\\site-packages (from streamlit) (2.32.3)\n",
      "Requirement already satisfied: tenacity<10,>=8.1.0 in c:\\users\\keert\\anaconda3\\envs\\jupyternotebook-intwebappenv\\lib\\site-packages (from streamlit) (9.1.2)\n",
      "Requirement already satisfied: toml<2,>=0.10.1 in c:\\users\\keert\\anaconda3\\envs\\jupyternotebook-intwebappenv\\lib\\site-packages (from streamlit) (0.10.2)\n",
      "Requirement already satisfied: typing-extensions<5,>=4.4.0 in c:\\users\\keert\\anaconda3\\envs\\jupyternotebook-intwebappenv\\lib\\site-packages (from streamlit) (4.13.2)\n",
      "Requirement already satisfied: watchdog<7,>=2.1.5 in c:\\users\\keert\\anaconda3\\envs\\jupyternotebook-intwebappenv\\lib\\site-packages (from streamlit) (6.0.0)\n",
      "Requirement already satisfied: gitpython!=3.1.19,<4,>=3.0.7 in c:\\users\\keert\\anaconda3\\envs\\jupyternotebook-intwebappenv\\lib\\site-packages (from streamlit) (3.1.44)\n",
      "Requirement already satisfied: pydeck<1,>=0.8.0b4 in c:\\users\\keert\\anaconda3\\envs\\jupyternotebook-intwebappenv\\lib\\site-packages (from streamlit) (0.9.1)\n",
      "Requirement already satisfied: tornado!=6.5.0,<7,>=6.0.3 in c:\\users\\keert\\anaconda3\\envs\\jupyternotebook-intwebappenv\\lib\\site-packages (from streamlit) (6.4.2)\n",
      "Requirement already satisfied: jinja2 in c:\\users\\keert\\anaconda3\\envs\\jupyternotebook-intwebappenv\\lib\\site-packages (from altair<6,>=4.0->streamlit) (3.1.4)\n",
      "Requirement already satisfied: jsonschema>=3.0 in c:\\users\\keert\\anaconda3\\envs\\jupyternotebook-intwebappenv\\lib\\site-packages (from altair<6,>=4.0->streamlit) (4.23.0)\n",
      "Requirement already satisfied: narwhals>=1.14.2 in c:\\users\\keert\\anaconda3\\envs\\jupyternotebook-intwebappenv\\lib\\site-packages (from altair<6,>=4.0->streamlit) (1.33.0)\n",
      "Requirement already satisfied: colorama in c:\\users\\keert\\anaconda3\\envs\\jupyternotebook-intwebappenv\\lib\\site-packages (from click<9,>=7.0->streamlit) (0.4.6)\n",
      "Requirement already satisfied: gitdb<5,>=4.0.1 in c:\\users\\keert\\anaconda3\\envs\\jupyternotebook-intwebappenv\\lib\\site-packages (from gitpython!=3.1.19,<4,>=3.0.7->streamlit) (4.0.12)\n",
      "Requirement already satisfied: python-dateutil>=2.8.2 in c:\\users\\keert\\anaconda3\\envs\\jupyternotebook-intwebappenv\\lib\\site-packages (from pandas<3,>=1.4.0->streamlit) (2.9.0.post0)\n",
      "Requirement already satisfied: pytz>=2020.1 in c:\\users\\keert\\anaconda3\\envs\\jupyternotebook-intwebappenv\\lib\\site-packages (from pandas<3,>=1.4.0->streamlit) (2024.1)\n",
      "Requirement already satisfied: tzdata>=2022.7 in c:\\users\\keert\\anaconda3\\envs\\jupyternotebook-intwebappenv\\lib\\site-packages (from pandas<3,>=1.4.0->streamlit) (2025.2)\n",
      "Requirement already satisfied: charset-normalizer<4,>=2 in c:\\users\\keert\\anaconda3\\envs\\jupyternotebook-intwebappenv\\lib\\site-packages (from requests<3,>=2.27->streamlit) (3.3.2)\n",
      "Requirement already satisfied: idna<4,>=2.5 in c:\\users\\keert\\anaconda3\\envs\\jupyternotebook-intwebappenv\\lib\\site-packages (from requests<3,>=2.27->streamlit) (3.7)\n",
      "Requirement already satisfied: urllib3<3,>=1.21.1 in c:\\users\\keert\\anaconda3\\envs\\jupyternotebook-intwebappenv\\lib\\site-packages (from requests<3,>=2.27->streamlit) (2.4.0)\n",
      "Requirement already satisfied: certifi>=2017.4.17 in c:\\users\\keert\\anaconda3\\envs\\jupyternotebook-intwebappenv\\lib\\site-packages (from requests<3,>=2.27->streamlit) (2025.6.15)\n",
      "Requirement already satisfied: smmap<6,>=3.0.1 in c:\\users\\keert\\anaconda3\\envs\\jupyternotebook-intwebappenv\\lib\\site-packages (from gitdb<5,>=4.0.1->gitpython!=3.1.19,<4,>=3.0.7->streamlit) (5.0.2)\n",
      "Requirement already satisfied: MarkupSafe>=2.0 in c:\\users\\keert\\anaconda3\\envs\\jupyternotebook-intwebappenv\\lib\\site-packages (from jinja2->altair<6,>=4.0->streamlit) (2.1.3)\n",
      "Requirement already satisfied: attrs>=22.2.0 in c:\\users\\keert\\anaconda3\\envs\\jupyternotebook-intwebappenv\\lib\\site-packages (from jsonschema>=3.0->altair<6,>=4.0->streamlit) (24.3.0)\n",
      "Requirement already satisfied: jsonschema-specifications>=2023.03.6 in c:\\users\\keert\\anaconda3\\envs\\jupyternotebook-intwebappenv\\lib\\site-packages (from jsonschema>=3.0->altair<6,>=4.0->streamlit) (2023.7.1)\n",
      "Requirement already satisfied: referencing>=0.28.4 in c:\\users\\keert\\anaconda3\\envs\\jupyternotebook-intwebappenv\\lib\\site-packages (from jsonschema>=3.0->altair<6,>=4.0->streamlit) (0.30.2)\n",
      "Requirement already satisfied: rpds-py>=0.7.1 in c:\\users\\keert\\anaconda3\\envs\\jupyternotebook-intwebappenv\\lib\\site-packages (from jsonschema>=3.0->altair<6,>=4.0->streamlit) (0.10.6)\n",
      "Requirement already satisfied: six>=1.5 in c:\\users\\keert\\anaconda3\\envs\\jupyternotebook-intwebappenv\\lib\\site-packages (from python-dateutil>=2.8.2->pandas<3,>=1.4.0->streamlit) (1.16.0)\n"
     ]
    },
    {
     "name": "stderr",
     "output_type": "stream",
     "text": [
      "WARNING: Ignoring invalid distribution ~umpy (C:\\Users\\Keert\\anaconda3\\envs\\JupyterNotebook-IntWebAppEnv\\Lib\\site-packages)\n",
      "WARNING: Ignoring invalid distribution ~umpy (C:\\Users\\Keert\\anaconda3\\envs\\JupyterNotebook-IntWebAppEnv\\Lib\\site-packages)\n",
      "WARNING: Ignoring invalid distribution ~umpy (C:\\Users\\Keert\\anaconda3\\envs\\JupyterNotebook-IntWebAppEnv\\Lib\\site-packages)\n"
     ]
    }
   ],
   "source": [
    "!pip install streamlit"
   ]
  },
  {
   "cell_type": "code",
   "execution_count": null,
   "id": "9b675e26-47c4-4ee7-a3bf-328088607bf2",
   "metadata": {},
   "outputs": [],
   "source": []
  }
 ],
 "metadata": {
  "kernelspec": {
   "display_name": "Python 3 (ipykernel)",
   "language": "python",
   "name": "python3"
  },
  "language_info": {
   "codemirror_mode": {
    "name": "ipython",
    "version": 3
   },
   "file_extension": ".py",
   "mimetype": "text/x-python",
   "name": "python",
   "nbconvert_exporter": "python",
   "pygments_lexer": "ipython3",
   "version": "3.11.11"
  }
 },
 "nbformat": 4,
 "nbformat_minor": 5
}
