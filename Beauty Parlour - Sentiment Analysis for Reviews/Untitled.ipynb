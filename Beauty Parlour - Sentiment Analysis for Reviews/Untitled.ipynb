{
 "cells": [
  {
   "cell_type": "code",
   "execution_count": null,
   "id": "671db1c4-6a20-4e3c-ac45-4845e1834120",
   "metadata": {},
   "outputs": [],
   "source": [
    "import pandas as pd\n",
    "\n",
    "# Load the dataset\n",
    "df = pd.read_csv(\"UTI_Gold_ETF_MF_USD_01012023_31122024_ALL.csv\", parse_dates=[\"Date\"])\n",
    "df = df.sort_values(\"Date\")\n",
    "\n",
    "# Assume columns: ['Date', 'NAV', 'Gold_Price', 'USD_INR', ...]\n",
    "df = df.set_index(\"Date\")\n",
    "df = df.dropna()\n",
    "\n",
    "# Normalize features\n",
    "from sklearn.preprocessing import MinMaxScaler\n",
    "\n",
    "scaler = MinMaxScaler()\n",
    "scaled_data = scaler.fit_transform(df)\n",
    "\n",
    "import torch\n",
    "import numpy as np\n",
    "\n",
    "# Define sequence creation\n",
    "def create_sequences(data, window=30):\n",
    "    X, y = [], []\n",
    "    for i in range(len(data) - window):\n",
    "        X.append(data[i:i+window])\n",
    "        y.append(data[i+window][0])  # Assuming NAV is the first column\n",
    "    return torch.tensor(X, dtype=torch.float32), torch.tensor(y, dtype=torch.float32).unsqueeze(-1)\n",
    "\n",
    "window_size = 30\n",
    "X, y = create_sequences(scaled_data, window=window_size)\n",
    "\n",
    "train_size = int(0.8 * len(X))\n",
    "X_train, X_val = X[:train_size], X[train_size:]\n",
    "y_train, y_val = y[:train_size], y[train_size:]\n"
   ]
  }
 ],
 "metadata": {
  "kernelspec": {
   "display_name": "Python 3 (ipykernel)",
   "language": "python",
   "name": "python3"
  },
  "language_info": {
   "codemirror_mode": {
    "name": "ipython",
    "version": 3
   },
   "file_extension": ".py",
   "mimetype": "text/x-python",
   "name": "python",
   "nbconvert_exporter": "python",
   "pygments_lexer": "ipython3",
   "version": "3.11.11"
  }
 },
 "nbformat": 4,
 "nbformat_minor": 5
}
